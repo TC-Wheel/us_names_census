{
 "cells": [
  {
   "cell_type": "markdown",
   "metadata": {},
   "source": [
    "# Cleaning Names by State Data"
   ]
  },
  {
   "cell_type": "markdown",
   "metadata": {},
   "source": [
    "Imports"
   ]
  },
  {
   "cell_type": "code",
   "execution_count": 1,
   "metadata": {},
   "outputs": [],
   "source": [
    "import pandas as pd\n",
    "import numpy as np\n",
    "from matplotlib import pyplot as plt\n",
    "import os"
   ]
  },
  {
   "cell_type": "markdown",
   "metadata": {},
   "source": [
    "Collect the files"
   ]
  },
  {
   "cell_type": "code",
   "execution_count": 2,
   "metadata": {},
   "outputs": [
    {
     "name": "stdout",
     "output_type": "stream",
     "text": [
      "['/Users/macair/Documents/github/us_names_census/src/../data/namesbystate_tester/STATE.AL.TXT', '/Users/macair/Documents/github/us_names_census/src/../data/namesbystate_tester/STATE.AZ.TXT', '/Users/macair/Documents/github/us_names_census/src/../data/namesbystate_tester/STATE.AK.TXT', '/Users/macair/Documents/github/us_names_census/src/../data/namesbystate_tester/STATE.CA.TXT', '/Users/macair/Documents/github/us_names_census/src/../data/namesbystate_tester/STATE.AR.TXT', '/Users/macair/Documents/github/us_names_census/src/../data/namesbystate_tester/STATE.CO.TXT']\n"
     ]
    }
   ],
   "source": [
    "state_folder = os.path.join(os.getcwd(), \"../data/namesbystate_tester\")\n",
    "state_paths = []\n",
    "for _, _, found_file in os.walk(state_folder):\n",
    "    for state in found_file:\n",
    "        state_paths.append(os.path.join(state_folder, state))"
   ]
  },
  {
   "cell_type": "markdown",
   "metadata": {},
   "source": [
    "Stack the dataframes and add a header using a loop"
   ]
  },
  {
   "cell_type": "code",
   "execution_count": 11,
   "metadata": {},
   "outputs": [],
   "source": [
    "state_header = ['STATE', 'SEX', 'YEAR', 'NAME', 'COUNT']\n",
    "state_dfs = []\n",
    "for state_path in state_paths:\n",
    "    state_dfs.append(pd.read_csv(state_path, names=state_header))\n",
    "\n",
    "state_df = pd.concat(state_dfs, ignore_index=True)"
   ]
  },
  {
   "cell_type": "code",
   "execution_count": 13,
   "metadata": {},
   "outputs": [
    {
     "data": {
      "text/html": [
       "<div>\n",
       "<style scoped>\n",
       "    .dataframe tbody tr th:only-of-type {\n",
       "        vertical-align: middle;\n",
       "    }\n",
       "\n",
       "    .dataframe tbody tr th {\n",
       "        vertical-align: top;\n",
       "    }\n",
       "\n",
       "    .dataframe thead th {\n",
       "        text-align: right;\n",
       "    }\n",
       "</style>\n",
       "<table border=\"1\" class=\"dataframe\">\n",
       "  <thead>\n",
       "    <tr style=\"text-align: right;\">\n",
       "      <th></th>\n",
       "      <th>STATE</th>\n",
       "      <th>SEX</th>\n",
       "      <th>YEAR</th>\n",
       "      <th>NAME</th>\n",
       "      <th>COUNT</th>\n",
       "    </tr>\n",
       "  </thead>\n",
       "  <tbody>\n",
       "    <tr>\n",
       "      <th>924795</th>\n",
       "      <td>CO</td>\n",
       "      <td>M</td>\n",
       "      <td>2022</td>\n",
       "      <td>Wynn</td>\n",
       "      <td>5</td>\n",
       "    </tr>\n",
       "    <tr>\n",
       "      <th>924796</th>\n",
       "      <td>CO</td>\n",
       "      <td>M</td>\n",
       "      <td>2022</td>\n",
       "      <td>Zephaniah</td>\n",
       "      <td>5</td>\n",
       "    </tr>\n",
       "    <tr>\n",
       "      <th>924797</th>\n",
       "      <td>CO</td>\n",
       "      <td>M</td>\n",
       "      <td>2022</td>\n",
       "      <td>Zephyr</td>\n",
       "      <td>5</td>\n",
       "    </tr>\n",
       "    <tr>\n",
       "      <th>924798</th>\n",
       "      <td>CO</td>\n",
       "      <td>M</td>\n",
       "      <td>2022</td>\n",
       "      <td>Zeus</td>\n",
       "      <td>5</td>\n",
       "    </tr>\n",
       "    <tr>\n",
       "      <th>924799</th>\n",
       "      <td>CO</td>\n",
       "      <td>M</td>\n",
       "      <td>2022</td>\n",
       "      <td>Zyon</td>\n",
       "      <td>5</td>\n",
       "    </tr>\n",
       "  </tbody>\n",
       "</table>\n",
       "</div>"
      ],
      "text/plain": [
       "       STATE SEX  YEAR       NAME  COUNT\n",
       "924795    CO   M  2022       Wynn      5\n",
       "924796    CO   M  2022  Zephaniah      5\n",
       "924797    CO   M  2022     Zephyr      5\n",
       "924798    CO   M  2022       Zeus      5\n",
       "924799    CO   M  2022       Zyon      5"
      ]
     },
     "execution_count": 13,
     "metadata": {},
     "output_type": "execute_result"
    }
   ],
   "source": [
    "state_df.tail()"
   ]
  }
 ],
 "metadata": {
  "kernelspec": {
   "display_name": "namespyenv",
   "language": "python",
   "name": "python3"
  },
  "language_info": {
   "codemirror_mode": {
    "name": "ipython",
    "version": 3
   },
   "file_extension": ".py",
   "mimetype": "text/x-python",
   "name": "python",
   "nbconvert_exporter": "python",
   "pygments_lexer": "ipython3",
   "version": "3.12.2"
  }
 },
 "nbformat": 4,
 "nbformat_minor": 2
}
