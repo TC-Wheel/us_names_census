{
 "cells": [
  {
   "cell_type": "markdown",
   "metadata": {},
   "source": [
    "# Cleaning Names by State Data"
   ]
  },
  {
   "cell_type": "markdown",
   "metadata": {},
   "source": [
    "Imports"
   ]
  },
  {
   "cell_type": "code",
   "execution_count": 37,
   "metadata": {},
   "outputs": [],
   "source": [
    "import pandas as pd\n",
    "import numpy as np\n",
    "from matplotlib import pyplot as plt\n",
    "import os, re"
   ]
  },
  {
   "cell_type": "markdown",
   "metadata": {},
   "source": [
    "Collect the files"
   ]
  },
  {
   "cell_type": "code",
   "execution_count": 53,
   "metadata": {},
   "outputs": [
    {
     "name": "stdout",
     "output_type": "stream",
     "text": [
      "len(state_paths) = 51\n"
     ]
    }
   ],
   "source": [
    "state_folder = os.path.join(os.getcwd(), \"../data/namesbystate\")\n",
    "state_paths = []\n",
    "for _, _, found_file in os.walk(state_folder):\n",
    "    for state in found_file:\n",
    "        if state == \".DS_Store\":\n",
    "            continue\n",
    "        state_paths.append(os.path.join(state_folder, state))\n",
    "print(f\"{len(state_paths) = }\")"
   ]
  },
  {
   "cell_type": "markdown",
   "metadata": {},
   "source": [
    "Stack the dataframes and add a header using a loop"
   ]
  },
  {
   "cell_type": "code",
   "execution_count": 54,
   "metadata": {},
   "outputs": [
    {
     "name": "stdout",
     "output_type": "stream",
     "text": [
      "len(states_in_folder) = 51\n"
     ]
    }
   ],
   "source": [
    "state_header = ['STATE', 'SEX', 'YEAR', 'NAME', 'COUNT']\n",
    "state_dfs = []\n",
    "states_in_folder = []\n",
    "for i, state_path in enumerate(state_paths):\n",
    "    match = re.search(r\"[A-Z]{2}(?=\\.)\", state_path)\n",
    "    if match:\n",
    "        states_in_folder.append(match[0])\n",
    "    state_dfs.append(pd.read_csv(state_path, names=state_header))\n",
    "state_df = pd.concat(state_dfs, ignore_index=True)\n",
    "print(f\"{len(states_in_folder) = }\")"
   ]
  },
  {
   "cell_type": "code",
   "execution_count": 36,
   "metadata": {},
   "outputs": [
    {
     "name": "stdout",
     "output_type": "stream",
     "text": [
      "len(included_states) = 49\n",
      "len(states_in_folder) = 49\n"
     ]
    }
   ],
   "source": [
    "included_states = state_df.STATE.unique().tolist()\n",
    "included_states.sort() #why?\n",
    "# print(included_states)\n",
    "included_states = set(included_states)\n",
    "states_in_folder = set(states_in_folder)\n",
    "print(f'{len(included_states) = }\\n{len(states_in_folder) = }')"
   ]
  }
 ],
 "metadata": {
  "kernelspec": {
   "display_name": "namespyenv",
   "language": "python",
   "name": "python3"
  },
  "language_info": {
   "codemirror_mode": {
    "name": "ipython",
    "version": 3
   },
   "file_extension": ".py",
   "mimetype": "text/x-python",
   "name": "python",
   "nbconvert_exporter": "python",
   "pygments_lexer": "ipython3",
   "version": "3.12.2"
  }
 },
 "nbformat": 4,
 "nbformat_minor": 2
}
